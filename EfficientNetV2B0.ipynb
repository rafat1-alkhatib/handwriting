{
  "nbformat": 4,
  "nbformat_minor": 0,
  "metadata": {
    "colab": {
      "provenance": [],
      "gpuType": "T4"
    },
    "kernelspec": {
      "name": "python3",
      "display_name": "Python 3"
    },
    "language_info": {
      "name": "python"
    },
    "accelerator": "GPU"
  },
  "cells": [
    {
      "cell_type": "code",
      "execution_count": 1,
      "metadata": {
        "colab": {
          "base_uri": "https://localhost:8080/"
        },
        "id": "ohA7VPiiiEwh",
        "outputId": "9e2aa31f-e47c-4fc8-cefc-2d3582194ae0"
      },
      "outputs": [
        {
          "output_type": "stream",
          "name": "stdout",
          "text": [
            "Drive already mounted at /content/drive; to attempt to forcibly remount, call drive.mount(\"/content/drive\", force_remount=True).\n"
          ]
        }
      ],
      "source": [
        "from google.colab import drive\n",
        "drive.mount('/content/drive')"
      ]
    },
    {
      "cell_type": "code",
      "source": [
        "import tensorflow as tf     ##tensorflow-gpu\n",
        "import cv2                  ##opencv-python\n",
        "import os\n",
        "import matplotlib.pyplot as plt  ## matplotlib\n",
        "import numpy as np\n",
        "from google.colab.patches import cv2_imshow\n",
        "from sklearn.model_selection import train_test_split"
      ],
      "metadata": {
        "id": "YFCqjtZFi7iO"
      },
      "execution_count": 2,
      "outputs": []
    },
    {
      "cell_type": "code",
      "source": [
        "device_name = tf.test.gpu_device_name()\n",
        "if device_name != '/device:GPU:0':\n",
        "    print('GPU device not found. Make sure you have enabled the GPU runtime.')\n",
        "else:\n",
        "    print('GPU device found:', device_name)"
      ],
      "metadata": {
        "colab": {
          "base_uri": "https://localhost:8080/"
        },
        "id": "v3Fvp0Mai7ko",
        "outputId": "ec73276b-7d22-456b-89e7-40b39696165b"
      },
      "execution_count": 3,
      "outputs": [
        {
          "output_type": "stream",
          "name": "stdout",
          "text": [
            "GPU device found: /device:GPU:0\n"
          ]
        }
      ]
    },
    {
      "cell_type": "code",
      "source": [
        "import cv2\n",
        "import numpy as np\n",
        "\n",
        "def resize_with_padding(image, target_size, padding_color=(0, 0, 0)):\n",
        "    try:\n",
        "        height, width = image.shape[:2]\n",
        "        target_height, target_width = target_size\n",
        "\n",
        "        # Calculate the aspect ratio of the original image\n",
        "        aspect_ratio = width / height\n",
        "\n",
        "        # Calculate the target aspect ratio\n",
        "        target_aspect_ratio = target_width / target_height\n",
        "\n",
        "        # Calculate the new size with padding\n",
        "        if target_aspect_ratio > aspect_ratio:\n",
        "            new_width = int(target_height * aspect_ratio)\n",
        "            new_height = target_height\n",
        "            pad_left = (target_width - new_width) // 2\n",
        "            pad_right = target_width - new_width - pad_left\n",
        "            pad_top = 0\n",
        "            pad_bottom = 0\n",
        "        else:\n",
        "            new_width = target_width\n",
        "            new_height = int(target_width / aspect_ratio)\n",
        "            pad_left = 0\n",
        "            pad_right = 0\n",
        "            pad_top = (target_height - new_height) // 2\n",
        "            pad_bottom = target_height - new_height - pad_top\n",
        "\n",
        "        # Resize the image while maintaining the aspect ratio\n",
        "        resized_image = cv2.resize(image, (new_width, new_height))\n",
        "\n",
        "        # Create a new image with the target size and fill it with padding color\n",
        "        padded_image = np.full((target_height, target_width, 3), padding_color, dtype=np.uint8)\n",
        "        padded_image[pad_top:pad_top+new_height, pad_left:pad_left+new_width] = resized_image\n",
        "\n",
        "        return padded_image\n",
        "\n",
        "    except Exception as e:\n",
        "        print(\"An error occurred during image resizing:\", str(e))\n",
        "        return None\n"
      ],
      "metadata": {
        "id": "jJpiA8_oi7nO"
      },
      "execution_count": 4,
      "outputs": []
    },
    {
      "cell_type": "code",
      "source": [
        "train_data=r'/content/drive/MyDrive/2 ba'\n",
        "\n",
        "Classes = [\"2.1\",\"2.2\",\"2.3\",\"2.4\"]\n",
        "\n",
        "print(\".........1_Step...............\")\n",
        "for category in Classes :\n",
        "    path=os.path.join(train_data,category)\n",
        "    for img in os.listdir(path):\n",
        "       img_array=cv2.imread(os.path.join(path,img))\n",
        "       backtorgb = cv2.cvtColor(img_array,cv2.COLOR_BGR2RGB)\n",
        "       plt.imshow(cv2.cvtColor(img_array,cv2.COLOR_BGR2RGB))\n",
        "       plt.show()\n",
        "       break\n",
        "    break\n",
        "print(\".........2_Step...............\")\n",
        "print(\"Resize_image\")\n",
        "img_size= 224 # ImageNet=>224*224\n",
        "new_array = resize_with_padding(img_array, (224, 224), padding_color=(255, 255, 255))  # Resize the image with padding and set padding color to white\n",
        "cv2_imshow(new_array)\n",
        "cv2.waitKey(0)\n",
        "cv2.destroyAllWindows()"
      ],
      "metadata": {
        "colab": {
          "base_uri": "https://localhost:8080/",
          "height": 706
        },
        "id": "MyMOLflBi7pn",
        "outputId": "8b409248-09ad-42c7-d8e3-4258d9647bfc"
      },
      "execution_count": 5,
      "outputs": [
        {
          "output_type": "stream",
          "name": "stdout",
          "text": [
            ".........1_Step...............\n"
          ]
        },
        {
          "output_type": "display_data",
          "data": {
            "text/plain": [
              "<Figure size 640x480 with 1 Axes>"
            ],
            "image/png": "[encoded data removed]"
          },
          "metadata": {}
        },
        {
          "output_type": "stream",
          "name": "stdout",
          "text": [
            ".........2_Step...............\n",
            "Resize_image\n"
          ]
        },
        {
          "output_type": "display_data",
          "data": {
            "text/plain": [
              "<PIL.Image.Image image mode=RGB size=224x224>"
            ],
            "image/png": "[encoded data removed]"
          },
          "metadata": {}
        }
      ]
    },
    {
      "cell_type": "code",
      "source": [
        "print(\"new_array\")\n",
        "new_array.shape"
      ],
      "metadata": {
        "colab": {
          "base_uri": "https://localhost:8080/"
        },
        "id": "FpYPk1lVi7r2",
        "outputId": "b992e586-8dff-4e81-a9be-e4168c050975"
      },
      "execution_count": 6,
      "outputs": [
        {
          "output_type": "stream",
          "name": "stdout",
          "text": [
            "new_array\n"
          ]
        },
        {
          "output_type": "execute_result",
          "data": {
            "text/plain": [
              "(224, 224, 3)"
            ]
          },
          "metadata": {},
          "execution_count": 6
        }
      ]
    },
    {
      "cell_type": "code",
      "source": [
        "print(\"old_array\")\n",
        "img_array.shape"
      ],
      "metadata": {
        "colab": {
          "base_uri": "https://localhost:8080/"
        },
        "id": "kqJj7ceji7uW",
        "outputId": "80f9dc08-9287-4d67-8583-9beebb7a09d5"
      },
      "execution_count": 7,
      "outputs": [
        {
          "output_type": "stream",
          "name": "stdout",
          "text": [
            "old_array\n"
          ]
        },
        {
          "output_type": "execute_result",
          "data": {
            "text/plain": [
              "(32, 32, 3)"
            ]
          },
          "metadata": {},
          "execution_count": 7
        }
      ]
    },
    {
      "cell_type": "code",
      "source": [
        "print(\".........3_Step...............\")\n",
        "print(\"read all the images and convertin them to array\")\n",
        "training_Data =[]  ## data\n",
        "def create_training_Data():\n",
        "      for category in Classes:\n",
        "          path=os.path.join(train_data,category)\n",
        "          class_num= Classes.index(category)   ## 0 1 ##lable\n",
        "          for img in os.listdir(path):\n",
        "              try:\n",
        "                  img_array=cv2.imread(os.path.join(path,img))\n",
        "                  new_array=cv2.resize(img_array,(img_size,img_size))\n",
        "                  training_Data.append([new_array,class_num])\n",
        "              except Exception as e:\n",
        "                  pass\n",
        "print(\"training_Data\")\n",
        "create_training_Data()\n",
        "print(len(training_Data))\n"
      ],
      "metadata": {
        "colab": {
          "base_uri": "https://localhost:8080/"
        },
        "id": "_r6rEtx7i7we",
        "outputId": "683f4915-3079-4451-de1c-072ab34d7c50"
      },
      "execution_count": 8,
      "outputs": [
        {
          "output_type": "stream",
          "name": "stdout",
          "text": [
            ".........3_Step...............\n",
            "read all the images and convertin them to array\n",
            "training_Data\n",
            "1799\n"
          ]
        }
      ]
    },
    {
      "cell_type": "code",
      "source": [
        "print(\".........3_Step...............\")\n",
        "temp=np.array(training_Data)\n",
        "temp.shape\n",
        "import random\n",
        "random.shuffle(training_Data)\n",
        "X=[]   ##data/feature\n",
        "Y=[]   ## label\n",
        "for features,label in training_Data:\n",
        "    X.append(features)\n",
        "    Y.append(label)\n",
        "print(\"converting it to 4 dimenstion\")\n",
        "X=np.array(X).reshape(-1,img_size,img_size,3)  ## converting it to 4 dimenstion\n",
        "X.shape   ##output: (un data ,224,224,3)"
      ],
      "metadata": {
        "colab": {
          "base_uri": "https://localhost:8080/"
        },
        "id": "qB0LHynxi7y_",
        "outputId": "998014b7-2d6c-4519-fd37-bbe26658cff2"
      },
      "execution_count": 9,
      "outputs": [
        {
          "output_type": "stream",
          "name": "stdout",
          "text": [
            ".........3_Step...............\n",
            "converting it to 4 dimenstion\n"
          ]
        },
        {
          "output_type": "stream",
          "name": "stderr",
          "text": [
            "<ipython-input-9-f795a976e93c>:2: VisibleDeprecationWarning: Creating an ndarray from ragged nested sequences (which is a list-or-tuple of lists-or-tuples-or ndarrays with different lengths or shapes) is deprecated. If you meant to do this, you must specify 'dtype=object' when creating the ndarray.\n",
            "  temp=np.array(training_Data)\n"
          ]
        },
        {
          "output_type": "execute_result",
          "data": {
            "text/plain": [
              "(1799, 224, 224, 3)"
            ]
          },
          "metadata": {},
          "execution_count": 9
        }
      ]
    },
    {
      "cell_type": "code",
      "source": [
        "print(\".........4_Step...............\")\n",
        "print(\"normalize the data\")\n",
        "X=X/255.0;  #we ara normalizrd it\n",
        "Y=np.array(Y)\n",
        "Y.shape\n",
        "X.shape"
      ],
      "metadata": {
        "colab": {
          "base_uri": "https://localhost:8080/"
        },
        "id": "Dl5K5Xdqi71H",
        "outputId": "aa095247-115c-4005-84f7-166b4257b897"
      },
      "execution_count": 10,
      "outputs": [
        {
          "output_type": "stream",
          "name": "stdout",
          "text": [
            ".........4_Step...............\n",
            "normalize the data\n"
          ]
        },
        {
          "output_type": "execute_result",
          "data": {
            "text/plain": [
              "(1799, 224, 224, 3)"
            ]
          },
          "metadata": {},
          "execution_count": 10
        }
      ]
    },
    {
      "cell_type": "code",
      "source": [
        "X_train, X_test, y_train, y_test = train_test_split(X, Y, test_size=0.3, random_state=12)\n",
        "print(X_train.shape)"
      ],
      "metadata": {
        "colab": {
          "base_uri": "https://localhost:8080/"
        },
        "id": "huLlvVrUi74R",
        "outputId": "0a72374d-509d-4d64-c7d1-b6f75a1dde9f"
      },
      "execution_count": 11,
      "outputs": [
        {
          "output_type": "stream",
          "name": "stdout",
          "text": [
            "(1259, 224, 224, 3)\n"
          ]
        }
      ]
    },
    {
      "cell_type": "code",
      "source": [
        "print(\".........1_Step...............\")\n",
        "import tensorflow as tf\n",
        "from tensorflow import keras\n",
        "from tensorflow.keras import layers\n",
        "from tensorflow.keras.applications import ResNet50\n",
        "print(\".........2_Step...............\")\n",
        "print(\"per-trained Model\")\n",
        "model= tf.keras.applications.EfficientNetV2B0()\n",
        "#model = ResNet50(include_top=False, weights='imagenet', input_shape=(32, 32, 3))\n",
        "#model.summary()\n",
        "print(\".........3_Step...............\")\n",
        "print(\"Transfer Learning -Tuning ,weights will start from last check point\")\n",
        "base_input = model.layers[0].input\n",
        "base_output=model.layers[-2].output\n",
        "base_input\n",
        "base_output"
      ],
      "metadata": {
        "colab": {
          "base_uri": "https://localhost:8080/"
        },
        "id": "lQW4cc3bjKSX",
        "outputId": "0bf882f6-cad0-4e79-e4ca-cdbbd8029340"
      },
      "execution_count": 12,
      "outputs": [
        {
          "output_type": "stream",
          "name": "stdout",
          "text": [
            ".........1_Step...............\n",
            ".........2_Step...............\n",
            "per-trained Model\n",
            ".........3_Step...............\n",
            "Transfer Learning -Tuning ,weights will start from last check point\n"
          ]
        },
        {
          "output_type": "execute_result",
          "data": {
            "text/plain": [
              "<KerasTensor: shape=(None, 1280) dtype=float32 (created by layer 'top_dropout')>"
            ]
          },
          "metadata": {},
          "execution_count": 12
        }
      ]
    },
    {
      "cell_type": "code",
      "source": [
        "print(\".........4_Step...............\")\n",
        "print(\"New_model\")\n",
        "final_output=layers.Dense(128)(base_output)   ##adding new layer , after the output  of global pooling layer\n",
        "#final_output=layers.Dropout(0.4)(final_output)\n",
        "final_output=layers.Activation ('relu')(final_output)  ##activation function\n",
        "final_output=layers.Dense(64)(final_output)\n",
        "#final_output=layers.Dropout(0.4)(final_output)\n",
        "final_output=layers.Activation('relu')(final_output)\n",
        "final_output=layers.Dense(4,activation='softmax')(final_output)  ## my classes are 07\n",
        "final_output"
      ],
      "metadata": {
        "colab": {
          "base_uri": "https://localhost:8080/"
        },
        "id": "Zo98LBo7jKWe",
        "outputId": "9c992661-3cc2-4ee7-bd94-39c41842da86"
      },
      "execution_count": 13,
      "outputs": [
        {
          "output_type": "stream",
          "name": "stdout",
          "text": [
            ".........4_Step...............\n",
            "New_model\n"
          ]
        },
        {
          "output_type": "execute_result",
          "data": {
            "text/plain": [
              "<KerasTensor: shape=(None, 4) dtype=float32 (created by layer 'dense_2')>"
            ]
          },
          "metadata": {},
          "execution_count": 13
        }
      ]
    },
    {
      "cell_type": "code",
      "source": [
        "print(\".........5_Step...............\")\n",
        "new_model = keras.Model(inputs=base_input ,outputs=final_output)\n",
        "#new_model.summary()"
      ],
      "metadata": {
        "colab": {
          "base_uri": "https://localhost:8080/"
        },
        "id": "Lrt2ad3YjKZO",
        "outputId": "1661aed5-d5e4-4c64-aded-f065970fb0c1"
      },
      "execution_count": 14,
      "outputs": [
        {
          "output_type": "stream",
          "name": "stdout",
          "text": [
            ".........5_Step...............\n"
          ]
        }
      ]
    },
    {
      "cell_type": "code",
      "source": [
        "print(\".........7_Step...............\")\n",
        "new_model.compile(loss=\"sparse_categorical_crossentropy\",optimizer=\"adam\",run_eagerly=True,metrics= [\"accuracy\"])"
      ],
      "metadata": {
        "colab": {
          "base_uri": "https://localhost:8080/"
        },
        "id": "aDOSn_i1jKcO",
        "outputId": "e8393775-cace-49ca-93df-55a4f2fa0535"
      },
      "execution_count": 15,
      "outputs": [
        {
          "output_type": "stream",
          "name": "stdout",
          "text": [
            ".........7_Step...............\n"
          ]
        }
      ]
    },
    {
      "cell_type": "code",
      "source": [
        "import time\n",
        "start_time= time.time()\n",
        "history=new_model.fit(X_train,y_train,epochs=20)\n",
        "ent_time=time.time()"
      ],
      "metadata": {
        "colab": {
          "base_uri": "https://localhost:8080/"
        },
        "id": "gWqhfsyrjKfH",
        "outputId": "ceea2821-6e0a-4559-fd1e-66f0ba1d59a6"
      },
      "execution_count": 16,
      "outputs": [
        {
          "output_type": "stream",
          "name": "stdout",
          "text": [
            "Epoch 1/20\n"
          ]
        },
        {
          "output_type": "stream",
          "name": "stderr",
          "text": [
            "WARNING:tensorflow:5 out of the last 5 calls to <function _BaseOptimizer._update_step_xla at 0x79a7cbbe3640> triggered tf.function retracing. Tracing is expensive and the excessive number of tracings could be due to (1) creating @tf.function repeatedly in a loop, (2) passing tensors with different shapes, (3) passing Python objects instead of tensors. For (1), please define your @tf.function outside of the loop. For (2), @tf.function has reduce_retracing=True option that can avoid unnecessary retracing. For (3), please refer to https://www.tensorflow.org/guide/function#controlling_retracing and https://www.tensorflow.org/api_docs/python/tf/function for  more details.\n",
            "WARNING:tensorflow:6 out of the last 6 calls to <function _BaseOptimizer._update_step_xla at 0x79a7cbbe3640> triggered tf.function retracing. Tracing is expensive and the excessive number of tracings could be due to (1) creating @tf.function repeatedly in a loop, (2) passing tensors with different shapes, (3) passing Python objects instead of tensors. For (1), please define your @tf.function outside of the loop. For (2), @tf.function has reduce_retracing=True option that can avoid unnecessary retracing. For (3), please refer to https://www.tensorflow.org/guide/function#controlling_retracing and https://www.tensorflow.org/api_docs/python/tf/function for  more details.\n"
          ]
        },
        {
          "output_type": "stream",
          "name": "stdout",
          "text": [
            "40/40 [==============================] - 70s 839ms/step - loss: 0.7321 - accuracy: 0.6934\n",
            "Epoch 2/20\n",
            "40/40 [==============================] - 29s 727ms/step - loss: 0.2732 - accuracy: 0.9047\n",
            "Epoch 3/20\n",
            "40/40 [==============================] - 29s 727ms/step - loss: 0.1945 - accuracy: 0.9365\n",
            "Epoch 4/20\n",
            "40/40 [==============================] - 29s 716ms/step - loss: 0.1272 - accuracy: 0.9643\n",
            "Epoch 5/20\n",
            "40/40 [==============================] - 29s 727ms/step - loss: 0.1169 - accuracy: 0.9611\n",
            "Epoch 6/20\n",
            "40/40 [==============================] - 29s 732ms/step - loss: 0.1441 - accuracy: 0.9579\n",
            "Epoch 7/20\n",
            "40/40 [==============================] - 29s 725ms/step - loss: 0.0985 - accuracy: 0.9651\n",
            "Epoch 8/20\n",
            "40/40 [==============================] - 29s 713ms/step - loss: 0.1079 - accuracy: 0.9603\n",
            "Epoch 9/20\n",
            "40/40 [==============================] - 29s 723ms/step - loss: 0.0789 - accuracy: 0.9706\n",
            "Epoch 10/20\n",
            "40/40 [==============================] - 30s 753ms/step - loss: 0.1064 - accuracy: 0.9651\n",
            "Epoch 11/20\n",
            "40/40 [==============================] - 29s 733ms/step - loss: 0.0906 - accuracy: 0.9706\n",
            "Epoch 12/20\n",
            "40/40 [==============================] - 29s 732ms/step - loss: 0.0663 - accuracy: 0.9801\n",
            "Epoch 13/20\n",
            "40/40 [==============================] - 30s 740ms/step - loss: 0.0682 - accuracy: 0.9770\n",
            "Epoch 14/20\n",
            "40/40 [==============================] - 29s 726ms/step - loss: 0.0471 - accuracy: 0.9857\n",
            "Epoch 15/20\n",
            "40/40 [==============================] - 29s 733ms/step - loss: 0.0292 - accuracy: 0.9889\n",
            "Epoch 16/20\n",
            "40/40 [==============================] - 29s 725ms/step - loss: 0.0420 - accuracy: 0.9849\n",
            "Epoch 17/20\n",
            "40/40 [==============================] - 29s 737ms/step - loss: 0.0205 - accuracy: 0.9913\n",
            "Epoch 18/20\n",
            "40/40 [==============================] - 29s 729ms/step - loss: 0.0811 - accuracy: 0.9730\n",
            "Epoch 19/20\n",
            "40/40 [==============================] - 30s 762ms/step - loss: 0.0783 - accuracy: 0.9793\n",
            "Epoch 20/20\n",
            "40/40 [==============================] - 30s 751ms/step - loss: 0.0690 - accuracy: 0.9730\n"
          ]
        }
      ]
    },
    {
      "cell_type": "code",
      "source": [
        "time=ent_time-start_time\n",
        "print(f\" Time: {time} s\")"
      ],
      "metadata": {
        "colab": {
          "base_uri": "https://localhost:8080/"
        },
        "id": "T4Idz-iWsWb_",
        "outputId": "c7aab9cc-8481-4cdb-9989-738dd55ff7a2"
      },
      "execution_count": 17,
      "outputs": [
        {
          "output_type": "stream",
          "name": "stdout",
          "text": [
            " Time: 629.6965010166168 s\n"
          ]
        }
      ]
    },
    {
      "cell_type": "code",
      "source": [
        "new_model.save('model_res04.h5')\n",
        "new_model=tf.keras.models.load_model('model_res04.h5')"
      ],
      "metadata": {
        "colab": {
          "base_uri": "https://localhost:8080/"
        },
        "id": "LOUlb1KDsWef",
        "outputId": "6abff18c-bae8-4a99-9ce1-35e5970eca80"
      },
      "execution_count": 18,
      "outputs": [
        {
          "output_type": "stream",
          "name": "stderr",
          "text": [
            "/usr/local/lib/python3.10/dist-packages/keras/src/engine/training.py:3103: UserWarning: You are saving your model as an HDF5 file via `model.save()`. This file format is considered legacy. We recommend using instead the native Keras format, e.g. `model.save('my_model.keras')`.\n",
            "  saving_api.save_model(\n"
          ]
        }
      ]
    },
    {
      "cell_type": "code",
      "source": [
        "loss, accuracy=new_model.evaluate(X_test,y_test)\n",
        "print(\"accuracy=\",accuracy)"
      ],
      "metadata": {
        "colab": {
          "base_uri": "https://localhost:8080/"
        },
        "id": "aXiLw9FusWhP",
        "outputId": "dcdff997-5abe-4be6-ec85-ce7de5521350"
      },
      "execution_count": 19,
      "outputs": [
        {
          "output_type": "stream",
          "name": "stdout",
          "text": [
            "17/17 [==============================] - 5s 157ms/step - loss: 1.6186 - accuracy: 0.2519\n",
            "accuracy= 0.2518518567085266\n"
          ]
        }
      ]
    },
    {
      "cell_type": "code",
      "source": [
        "loss, accuracy=new_model.evaluate(X_train,y_train)\n",
        "print(\"accuracy=\",accuracy)"
      ],
      "metadata": {
        "colab": {
          "base_uri": "https://localhost:8080/"
        },
        "id": "ieW3XbGFsWkF",
        "outputId": "a15832d4-bbc7-476d-da5a-44b9e3864716"
      },
      "execution_count": 20,
      "outputs": [
        {
          "output_type": "stream",
          "name": "stdout",
          "text": [
            "40/40 [==============================] - 3s 73ms/step - loss: 1.6331 - accuracy: 0.2486\n",
            "accuracy= 0.2486100047826767\n"
          ]
        }
      ]
    },
    {
      "cell_type": "code",
      "source": [
        "SIZE=256\n",
        "new_model=tf.keras.models.load_model('/content/model_res04.h5')"
      ],
      "metadata": {
        "id": "UArwKxlgsWmf"
      },
      "execution_count": 21,
      "outputs": []
    },
    {
      "cell_type": "code",
      "source": [
        "print(\".........8_Step...............\")\n",
        "print(\"list all data in history\")\n",
        "import matplotlib.pyplot as plt\n",
        "from tensorflow.python.lib.io import file_io\n",
        "%matplotlib inline\n",
        "import keras\n",
        "from keras import backend as K\n",
        "from keras.callbacks import ModelCheckpoint, EarlyStopping\n",
        "from keras.preprocessing.image import ImageDataGenerator\n",
        "from keras.utils import plot_model\n",
        "from sklearn.metrics import *\n",
        "import skimage\n",
        "from skimage.transform import rescale, resize\n",
        "import pydot\n",
        "print(\".........9_Step...............\")\n",
        "# list all data in history\",\n",
        "print(history.history.keys())\n",
        "# summarize history for accuracy\n",
        "plt.plot(history.history['accuracy'])\n",
        "#plt.plot(history.history['val_acc'])\n",
        "plt.title('new_model resnet accuracy')\n",
        "plt.ylabel('accuracy(%)')\n",
        "plt.xlabel('epoch')\n",
        "plt.legend(['train', 'dev'], loc='upper left')\n",
        "plt.show()\n",
        " #summarize history for loss\n",
        "plt.plot(history.history['loss'])\n",
        "#plt.plot(history.history['val_loss'])\n",
        "plt.title('new_model loss(%)')\n",
        "plt.ylabel('loss')\n",
        "plt.xlabel('epoch')\n",
        "plt.legend(['train', 'dev'], loc='upper left')\n",
        "plt.show()"
      ],
      "metadata": {
        "colab": {
          "base_uri": "https://localhost:8080/",
          "height": 996
        },
        "id": "cNsek4LRsWpX",
        "outputId": "8445564f-2b5d-44be-c200-7c61e2b4fdaa"
      },
      "execution_count": 22,
      "outputs": [
        {
          "output_type": "stream",
          "name": "stdout",
          "text": [
            ".........8_Step...............\n",
            "list all data in history\n",
            ".........9_Step...............\n",
            "dict_keys(['loss', 'accuracy'])\n"
          ]
        },
        {
          "output_type": "display_data",
          "data": {
            "text/plain": [
              "<Figure size 640x480 with 1 Axes>"
            ],
            "image/png": "[encoded data removed]"
          },
          "metadata": {}
        },
        {
          "output_type": "display_data",
          "data": {
            "text/plain": [
              "<Figure size 640x480 with 1 Axes>"
            ],
            "image/png": "[encoded data removed]"
          },
          "metadata": {}
        }
      ]
    },
    {
      "cell_type": "code",
      "source": [
        "import tensorflow as tf\n",
        "from tensorflow.keras.applications.efficientnet import EfficientNetB0, preprocess_input, decode_predictions\n",
        "from tensorflow.keras.preprocessing import image\n",
        "from tensorflow.keras.layers import Dense, GlobalAveragePooling2D\n",
        "from tensorflow.keras.models import Model\n",
        "# Load and preprocess the image\n",
        "img_path = '/content/ba.png'\n",
        "img = image.load_img(img_path, target_size=(224, 224))\n",
        "x = image.img_to_array(img)\n",
        "x = preprocess_input(x)\n",
        "x = tf.expand_dims(x, axis=0)\n",
        "\n",
        "# Perform image prediction\n",
        "new_x = resize_with_padding(x, (256, 256), padding_color=(255, 255, 255))  # Resize the image with padding and set padding color to white\n",
        "new_x = preprocess_input(new_x)\n",
        "new_x = tf.expand_dims(x, axis=0)\n",
        "preds = new_model.predict(x)\n",
        "print(preds)"
      ],
      "metadata": {
        "colab": {
          "base_uri": "https://localhost:8080/"
        },
        "id": "wg_ReX_0sWtA",
        "outputId": "fe138511-6e62-43ec-e7af-62dbf6873e85"
      },
      "execution_count": 23,
      "outputs": [
        {
          "output_type": "stream",
          "name": "stdout",
          "text": [
            "An error occurred during image resizing: OpenCV(4.8.0) :-1: error: (-5:Bad argument) in function 'resize'\n",
            "> Overload resolution failed:\n",
            ">  - src is not a numpy array, neither a scalar\n",
            ">  - Expected Ptr<cv::UMat> for argument 'src'\n",
            "\n",
            "1/1 [==============================] - 4s 4s/step\n",
            "[[1. 0. 0. 0.]]\n"
          ]
        }
      ]
    },
    {
      "cell_type": "code",
      "source": [
        "#print(\".........10_Step...............\")\n",
        "#print(\".........Test dataset ...............\")\n",
        "import matplotlib.pyplot as plt\n",
        "import pandas as pd\n",
        "import numpy as np\n",
        "\n",
        "import tensorflow as tf\n",
        "from tensorflow.python.lib.io import file_io\n",
        "\n",
        "import keras\n",
        "from keras.preprocessing.image import ImageDataGenerator\n",
        "\n",
        "from sklearn.metrics import confusion_matrix\n",
        "from seaborn import heatmap\n",
        "\n",
        "emotions = {0:'Ioslated_ba', 1:'ba_with_first', 2:'ba_with_middel', 3:'ba_with_end'}\n",
        "\n",
        "y_pred = new_model.predict_generator(X_test).argmax(axis=1)\n",
        "y_true = y_test\n",
        "\n",
        "cmat_df_test=pd.DataFrame(\n",
        "  confusion_matrix(y_true, y_pred, normalize='true').round(2),\n",
        "  index=emotions.values(),\n",
        "  columns=emotions.values()\n",
        "  )\n",
        "plt.figure(figsize=(5,5))\n",
        "heatmap(cmat_df_test,annot=True,cmap=plt.cm.Blues)\n",
        "plt.tight_layout()\n",
        "plt.title('Confusion Matrix on Private Test Set')\n",
        "plt.ylabel('True label')\n",
        "plt.xlabel('Predicted label')\n",
        "plt.show()\n",
        "print(\" Finding Accuracy, precision and recall\")\n",
        "# Finding precision and recall\n",
        "accuracy = accuracy_score(y_test, y_pred)\n",
        "print(\"Accuracy   :\", accuracy)\n",
        "precision = precision_score(y_test, y_pred,average=\"weighted\")\n",
        "print(\"Precision :\", precision)\n",
        "recall = recall_score(y_test, y_pred,average=\"weighted\")\n",
        "print(\"Recall    :\", recall)\n",
        "F1_score = f1_score(y_test, y_pred,average=\"weighted\")\n",
        "print(\"F1-score  :\", F1_score)"
      ],
      "metadata": {
        "colab": {
          "base_uri": "https://localhost:8080/",
          "height": 719
        },
        "id": "h6shOvBhsWwR",
        "outputId": "7ef613fa-ff5f-4da2-9ac0-3364fe634067"
      },
      "execution_count": 24,
      "outputs": [
        {
          "output_type": "stream",
          "name": "stderr",
          "text": [
            "<ipython-input-24-eb2b08025900>:18: UserWarning: `Model.predict_generator` is deprecated and will be removed in a future version. Please use `Model.predict`, which supports generators.\n",
            "  y_pred = new_model.predict_generator(X_test).argmax(axis=1)\n"
          ]
        },
        {
          "output_type": "display_data",
          "data": {
            "text/plain": [
              "<Figure size 500x500 with 2 Axes>"
            ],
            "image/png": "[encoded data removed]"
          },
          "metadata": {}
        },
        {
          "output_type": "stream",
          "name": "stdout",
          "text": [
            " Finding Accuracy, precision and recall\n",
            "Accuracy   : 0.2518518518518518\n",
            "Precision : 0.06342935528120712\n",
            "Recall    : 0.2518518518518518\n",
            "F1-score  : 0.10133683979837826\n"
          ]
        },
        {
          "output_type": "stream",
          "name": "stderr",
          "text": [
            "/usr/local/lib/python3.10/dist-packages/sklearn/metrics/_classification.py:1344: UndefinedMetricWarning: Precision is ill-defined and being set to 0.0 in labels with no predicted samples. Use `zero_division` parameter to control this behavior.\n",
            "  _warn_prf(average, modifier, msg_start, len(result))\n"
          ]
        }
      ]
    },
    {
      "cell_type": "code",
      "source": [
        "# #print(\".........Train dataset ...............\")\n",
        "# import matplotlib.pyplot as plt\n",
        "# import pandas as pd\n",
        "# import numpy as np\n",
        "\n",
        "# import tensorflow as tf\n",
        "# from tensorflow.python.lib.io import file_io\n",
        "\n",
        "# import keras\n",
        "# from keras.preprocessing.image import ImageDataGenerator\n",
        "\n",
        "# from sklearn.metrics import confusion_matrix\n",
        "# from seaborn import heatmap\n",
        "\n",
        "# emotions = {0:'Ioslated_ba', 1:'ba_with_first', 2:'ba_with_middel', 3:'ba_with_end'}\n",
        "\n",
        "# y_pred = new_model.predict_generator(X_train).argmax(axis=1)\n",
        "# y_true = y_train\n",
        "\n",
        "# cmat_df_test=pd.DataFrame(\n",
        "#   confusion_matrix(y_true, y_pred, normalize='true').round(2),\n",
        "#   index=emotions.values(),\n",
        "#   columns=emotions.values()\n",
        "#   )\n",
        "# plt.figure(figsize=(5,5))\n",
        "# heatmap(cmat_df_test,annot=True,cmap=plt.cm.Blues)\n",
        "# plt.tight_layout()\n",
        "# plt.title('Confusion Matrix on Private Train Set')\n",
        "# plt.ylabel('True label')\n",
        "# plt.xlabel('Predicted label')\n",
        "# plt.show()\n",
        "# print(\" Finding Accuracy, precision and recall\")\n",
        "# # Finding precision and recall\n",
        "# accuracy = accuracy_score(y_train, y_pred)\n",
        "# print(\"Accuracy   :\", accuracy)\n",
        "# precision = precision_score(y_train, y_pred,average=\"weighted\")\n",
        "# print(\"Precision :\", precision)\n",
        "# recall = recall_score(y_train, y_pred,average=\"weighted\")\n",
        "# print(\"Recall    :\", recall)\n",
        "# F1_score = f1_score(y_train, y_pred,average=\"weighted\")\n",
        "# print(\"F1-score  :\", F1_score)"
      ],
      "metadata": {
        "id": "cfF7yhYpxDqg"
      },
      "execution_count": 25,
      "outputs": []
    },
    {
      "cell_type": "code",
      "source": [
        "print(\".........6_Step...............\")\n",
        "print(\"Loaded without classifier/ fully connected layers\")\n",
        "from keras.applications.vgg16 import VGG16\n",
        "SIZE=256\n",
        "model = VGG16(weights='imagenet',include_top= False , input_shape=(SIZE,SIZE,3))\n",
        "print(\".........7_Step...............\")\n",
        "#Make loaded layers as non-trainable. This is important as we want to work with pre-trained weights\n",
        "for layer in model.layers:\n",
        "\tlayer.trainable = False\n",
        "model.summary()  #Trainable parameters will be 0"
      ],
      "metadata": {
        "colab": {
          "base_uri": "https://localhost:8080/"
        },
        "id": "O-axhpaUxDwI",
        "outputId": "90a817b5-da11-4b96-c2b9-21d88439e1f2"
      },
      "execution_count": 29,
      "outputs": [
        {
          "output_type": "stream",
          "name": "stdout",
          "text": [
            ".........6_Step...............\n",
            "Loaded without classifier/ fully connected layers\n",
            ".........7_Step...............\n",
            "Model: \"vgg16\"\n",
            "_________________________________________________________________\n",
            " Layer (type)                Output Shape              Param #   \n",
            "=================================================================\n",
            " input_5 (InputLayer)        [(None, 256, 256, 3)]     0         \n",
            "                                                                 \n",
            " block1_conv1 (Conv2D)       (None, 256, 256, 64)      1792      \n",
            "                                                                 \n",
            " block1_conv2 (Conv2D)       (None, 256, 256, 64)      36928     \n",
            "                                                                 \n",
            " block1_pool (MaxPooling2D)  (None, 128, 128, 64)      0         \n",
            "                                                                 \n",
            " block2_conv1 (Conv2D)       (None, 128, 128, 128)     73856     \n",
            "                                                                 \n",
            " block2_conv2 (Conv2D)       (None, 128, 128, 128)     147584    \n",
            "                                                                 \n",
            " block2_pool (MaxPooling2D)  (None, 64, 64, 128)       0         \n",
            "                                                                 \n",
            " block3_conv1 (Conv2D)       (None, 64, 64, 256)       295168    \n",
            "                                                                 \n",
            " block3_conv2 (Conv2D)       (None, 64, 64, 256)       590080    \n",
            "                                                                 \n",
            " block3_conv3 (Conv2D)       (None, 64, 64, 256)       590080    \n",
            "                                                                 \n",
            " block3_pool (MaxPooling2D)  (None, 32, 32, 256)       0         \n",
            "                                                                 \n",
            " block4_conv1 (Conv2D)       (None, 32, 32, 512)       1180160   \n",
            "                                                                 \n",
            " block4_conv2 (Conv2D)       (None, 32, 32, 512)       2359808   \n",
            "                                                                 \n",
            " block4_conv3 (Conv2D)       (None, 32, 32, 512)       2359808   \n",
            "                                                                 \n",
            " block4_pool (MaxPooling2D)  (None, 16, 16, 512)       0         \n",
            "                                                                 \n",
            " block5_conv1 (Conv2D)       (None, 16, 16, 512)       2359808   \n",
            "                                                                 \n",
            " block5_conv2 (Conv2D)       (None, 16, 16, 512)       2359808   \n",
            "                                                                 \n",
            " block5_conv3 (Conv2D)       (None, 16, 16, 512)       2359808   \n",
            "                                                                 \n",
            " block5_pool (MaxPooling2D)  (None, 8, 8, 512)         0         \n",
            "                                                                 \n",
            "=================================================================\n",
            "Total params: 14714688 (56.13 MB)\n",
            "Trainable params: 0 (0.00 Byte)\n",
            "Non-trainable params: 14714688 (56.13 MB)\n",
            "_________________________________________________________________\n"
          ]
        }
      ]
    },
    {
      "cell_type": "code",
      "source": [
        "SIZE=256\n",
        "new_model=tf.keras.models.load_model('/content/model_res04.h5')"
      ],
      "metadata": {
        "id": "4I4_VflTxD2W"
      },
      "execution_count": 30,
      "outputs": []
    },
    {
      "cell_type": "code",
      "source": [
        "for layer in new_model.layers:\n",
        "\tlayer.trainable = False"
      ],
      "metadata": {
        "id": "1AbOeU1oxD4g"
      },
      "execution_count": 31,
      "outputs": []
    },
    {
      "cell_type": "code",
      "source": [
        "print(\".........8_Step...............\")\n",
        "#Now, let us use features from convolutional network for RF\n",
        "feature_ext= new_model.predict(X_train)\n",
        "X_features = feature_ext.reshape(feature_ext.shape[0], -1)"
      ],
      "metadata": {
        "colab": {
          "base_uri": "https://localhost:8080/"
        },
        "id": "R230ZbBvx1Y4",
        "outputId": "15b66fa7-e438-447b-8e04-ed14706379c6"
      },
      "execution_count": 32,
      "outputs": [
        {
          "output_type": "stream",
          "name": "stdout",
          "text": [
            ".........8_Step...............\n",
            "40/40 [==============================] - 4s 54ms/step\n"
          ]
        }
      ]
    },
    {
      "cell_type": "code",
      "source": [
        "print(feature_ext.shape)"
      ],
      "metadata": {
        "colab": {
          "base_uri": "https://localhost:8080/"
        },
        "id": "9OkoNbBvx1bQ",
        "outputId": "a646fec4-7d21-4ac0-a02d-d4f22490bc24"
      },
      "execution_count": 33,
      "outputs": [
        {
          "output_type": "stream",
          "name": "stdout",
          "text": [
            "(1259, 4)\n"
          ]
        }
      ]
    },
    {
      "cell_type": "code",
      "source": [
        "print(\"feature for 0.2 ResNet50\\n\",\n",
        "      feature_ext[0])"
      ],
      "metadata": {
        "colab": {
          "base_uri": "https://localhost:8080/"
        },
        "id": "sygPV0_Bx1dx",
        "outputId": "4d758156-c698-4f82-8a6e-fb0097b6d5ae"
      },
      "execution_count": 34,
      "outputs": [
        {
          "output_type": "stream",
          "name": "stdout",
          "text": [
            "feature for 0.2 ResNet50\n",
            " [0.08582928 0.28304076 0.52277553 0.10835438]\n"
          ]
        }
      ]
    },
    {
      "cell_type": "code",
      "source": [
        "imge_features= (feature_ext[0]*255).astype(np.uint8)"
      ],
      "metadata": {
        "id": "GY2Ggwvjx1gi"
      },
      "execution_count": 35,
      "outputs": []
    },
    {
      "cell_type": "code",
      "source": [
        "pip install PIT"
      ],
      "metadata": {
        "colab": {
          "base_uri": "https://localhost:8080/"
        },
        "id": "BTwMPuSbx1jb",
        "outputId": "6de70051-730f-4d1f-ead9-271cdb4dd27c"
      },
      "execution_count": 36,
      "outputs": [
        {
          "output_type": "stream",
          "name": "stdout",
          "text": [
            "Collecting PIT\n",
            "  Downloading pit-0.5-py3-none-any.whl (2.7 kB)\n",
            "Requirement already satisfied: pyYAML in /usr/local/lib/python3.10/dist-packages (from PIT) (6.0.1)\n",
            "Installing collected packages: PIT\n",
            "Successfully installed PIT-0.5\n"
          ]
        }
      ]
    },
    {
      "cell_type": "code",
      "source": [
        "from PIL import Image\n",
        "image=Image.fromarray(imge_features)\n",
        "image.save(\"imge_features.png\")\n",
        "np.save(\"feature_ext.npy\",feature_ext)"
      ],
      "metadata": {
        "id": "NDNG2uX9x1lY"
      },
      "execution_count": 37,
      "outputs": []
    }
  ]
}